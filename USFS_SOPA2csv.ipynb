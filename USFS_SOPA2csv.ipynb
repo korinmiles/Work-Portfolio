{
 "cells": [
  {
   "cell_type": "code",
   "execution_count": 245,
   "id": "a1d1d013-84a2-4b6c-9d28-c1248a9f97ce",
   "metadata": {},
   "outputs": [],
   "source": [
    "import pandas as pd\n",
    "import lxml.html as LH\n",
    "from bs4 import BeautifulSoup as bs \n",
    "import re\n",
    "import requests\n",
    "import os\n",
    "import json"
   ]
  },
  {
   "cell_type": "code",
   "execution_count": 246,
   "id": "f80da39b-9c72-408f-ac65-4f6bda8f657f",
   "metadata": {},
   "outputs": [],
   "source": [
    "def read_SOPA(url, df):\n",
    "    response=requests.get(url)\n",
    "    html_page = bs(response.content, 'html.parser')\n",
    "    table1 = html_page.find(\"table\")\n",
    "    data = {\"ProjectName\":\"sopacell sopaname\", \"ProjectPurpose\":\"sopacell sopapurpose\", \"ProjectStatus\":\"sopacell sopastatus\", \n",
    "        \"Decision\": \"sopacell sopadecision\", \"ImplementationDate\":\"sopacell sopaimpl\",\"Contact\":\"sopacell sopacontact\", \"Description\": \"sopacell sopadescription\", \n",
    "        \"Location\":\"sopacell sopalocation\",\"WebLink\":\"sopa sopabacklink\"}\n",
    "    for k,v in data.items():            \n",
    "        if v == \"sopacell sopaname\":\n",
    "            serName = pd.Series(name = 'ProjectName')\n",
    "            rows = table1.find_all(class_=v)\n",
    "            for row in rows:\n",
    "                strg = row.text.split('\\'')[0]\n",
    "                serName = pd.concat([serName, pd.Series([strg])], ignore_index=True)\n",
    "        elif v == \"sopacell sopapurpose\":\n",
    "            serPurp = pd.Series(name = 'ProjectPurpose')\n",
    "            rows = table1.find_all(class_=v)\n",
    "            for row in rows:\n",
    "                strg = row.text.replace('- ', '')\n",
    "                serPurp = pd.concat([serPurp, pd.Series([strg])], ignore_index=True)\n",
    "        elif v == \"sopacell sopastatus\":\n",
    "            serStat = pd.Series(name = 'ProjectStatus')\n",
    "            rows = table1.find_all(class_=v)\n",
    "            for row in rows:\n",
    "                strg = row.text\n",
    "                serStat = pd.concat([serStat, pd.Series([strg])], ignore_index=True)\n",
    "        elif v == \"sopacell sopadecision\":\n",
    "            serDec = pd.Series(name = 'Decision')\n",
    "            rows = table1.find_all(class_=v)\n",
    "            for row in rows:\n",
    "                strg = row.text\n",
    "                serDec = pd.concat([serDec, pd.Series([strg])], ignore_index=True)\n",
    "        elif v == \"sopacell sopaimpl\":\n",
    "            serImpl = pd.Series(name = 'ImplementationDate')\n",
    "            rows = table1.find_all(class_=v)\n",
    "            for row in rows:\n",
    "                strg = row.text\n",
    "                serImpl = pd.concat([serImpl, pd.Series([strg])], ignore_index=True)\n",
    "        elif v == \"sopacell sopacontact\":\n",
    "            serContact = pd.Series(name = 'Contact')\n",
    "            rows = table1.find_all(class_=v)\n",
    "            for row in rows:\n",
    "                strg = row.text\n",
    "                serContact = pd.concat([serContact, pd.Series([strg])], ignore_index=True)\n",
    "        elif v == \"sopacell sopadescription\":\n",
    "            serDesc = pd.Series(name = 'Description')\n",
    "            rows = table1.find_all(class_=v)\n",
    "            for row in rows:\n",
    "                strg = row.text\n",
    "                serDesc = pd.concat([serDesc, pd.Series([strg])], ignore_index=True)        \n",
    "        elif v == \"sopacell sopalocation\":\n",
    "            serLoc = pd.Series(name = 'Location')\n",
    "            rows = table1.find_all(class_=v)\n",
    "            for row in rows:\n",
    "                strg = row.text\n",
    "                serLoc = pd.concat([serLoc, pd.Series([strg])], ignore_index=True)\n",
    "        elif v == \"sopacell sopadescription\":\n",
    "            serWeb = pd.Series(name = 'WebLink')\n",
    "            rows = table1.find_all(class_=v)\n",
    "            for row in rows:\n",
    "                strg = row.find('a').get(\"href\")\n",
    "                serWeb = pd.concat([serWeb, pd.Series([strg])], ignore_index=True)\n",
    "    df = pd.DataFrame({\"ProjectName\": serName, \"ProjectPurpose\": serPurp, \"ProjectStatus\":serStat, \"Decision\":serDec, \"ImplementationDate\":serImpl, \"Contact\":serContact, \"Description\":serDesc, \"Location\":serLoc})\n",
    "    #variable_name = f\"{df}\"\n",
    "    #df.to_csv(os.path.join(r\"C:\\Users\\korin\\Documents\\onXTechReview\",\"forest\",\".csv\"), index=False)\n",
    "    return df\n",
    "        "
   ]
  },
  {
   "cell_type": "code",
   "execution_count": 247,
   "id": "1065ec24-ed65-47d6-9c45-449f4eefeb05",
   "metadata": {},
   "outputs": [],
   "source": [
    "umpq = r\"https://data.fs2c.usda.gov/nepaweb/current-sopa.php?forest=110615\"\n",
    "des = r\"https://data.fs2c.usda.gov/nepaweb/current-sopa.php?forest=110601\"\n",
    "och = r\"https://data.fs2c.usda.gov/nepaweb/current-sopa.php?forest=110607\"\n",
    "columb = r\"https://data.fs2c.usda.gov/nepaweb/current-sopa.php?forest=110622\"\n",
    "frewin = r\"https://data.fs2c.usda.gov/nepaweb/current-sopa.php?forest=110602\"\n",
    "mal = r\"https://data.fs2c.usda.gov/nepaweb/current-sopa.php?forest=110604\"\n",
    "sius = r\"https://data.fs2c.usda.gov/nepaweb/current-sopa.php?forest=110612\"\n",
    "wilam = r\"https://data.fs2c.usda.gov/nepaweb/current-sopa.php?forest=110618\"\n",
    "klam = r\"https://data.fs2c.usda.gov/nepaweb/current-sopa.php?forest=110505\"\n",
    "mthood = r\"https://data.fs2c.usda.gov/nepaweb/current-sopa.php?forest=110606\"\n",
    "rrs = r\"https://data.fs2c.usda.gov/nepaweb/current-sopa.php?forest=110610\"\n",
    "uma = r\"https://data.fs2c.usda.gov/nepaweb/current-sopa.php?forest=110614\"\n",
    "ww = r\"https://data.fs2c.usda.gov/nepaweb/current-sopa.php?forest=110616\"\n",
    "col = r\"https://data.fs2c.usda.gov/nepaweb/current-sopa.php?forest=110621\"\n",
    "gifpin= r\"https://data.fs2c.usda.gov/nepaweb/current-sopa.php?forest=110603\"\n",
    "mbs = r\"https://data.fs2c.usda.gov/nepaweb/current-sopa.php?forest=110605\"\n",
    "olym = r\"https://data.fs2c.usda.gov/nepaweb/current-sopa.php?forest=110609\"\n",
    "dakgrass = r\"https://data.fs2c.usda.gov/nepaweb/current-sopa.php?forest=110118\"\n",
    "idpan = r\"https://data.fs2c.usda.gov/nepaweb/current-sopa.php?forest=110104\"\n",
    "okawin = r\"https://data.fs2c.usda.gov/nepaweb/current-sopa.php?forest=110617\"\n",
    "uin_wa_cache = r\"https://data.fs2c.usda.gov/nepaweb/current-sopa.php?forest=110419\"\n",
    "\n",
    "all_url = {umpq: 'umpaDF', des: 'desDF', och:'ochDF', columb:'columbDF', frewin:'frewinDF', mal:'malDF', sius:'siusDF', wilam:'wilamDF', klam:'klamDF', \n",
    "           mthood:'mthoodDF', rrs:'rrsDF', uma:'umaDF', ww:'wwDF', col:'colDF', gifpin:'gifpinDF', mbs:'mbsDF', olym:'olymDF', dakgrass:'dakgrassDF', \n",
    "           idpan:'idpanDF', okawin:'okawinDF', uin_wa_cache:'uin_wa_cacheDF'}\n",
    "\n",
    "path_lst = []\n",
    "for k, v in all_url.items():\n",
    "    output = read_SOPA(k,v)\n",
    "    #dataframe_all = pd.DataFrame()\n",
    "    #dataframe_all = pd.concat(ouput)\n",
    "    #print(v)\n",
    "    path = os.path.join(r\"C:\\Users\\korin\\Documents\\onXTechReview\",v+\".csv\")\n",
    "    path_lst.append(path)\n",
    "    #print(path)\n",
    "    output.to_csv(os.path.join(path), index=False)\n"
   ]
  },
  {
   "cell_type": "code",
   "execution_count": 248,
   "id": "b450d959-b8ce-4c05-81bf-bd2661d78f6e",
   "metadata": {},
   "outputs": [],
   "source": [
    "dataframes = [pd.read_csv(file) for file in path_lst]\n",
    "combined_df = pd.concat(dataframes, ignore_index=True)\n",
    "combined_df['LeadOffice']=combined_df['Location'].apply(lambda x: x.split('Unit - ')[-1]).apply(lambda x: x.split('STATE')[0])\n",
    "combined_df['LeadOffice']=combined_df['LeadOffice'].str.replace('''Location: UNIT - ''', '')\n",
    "combined_df['LeadOffice']=combined_df['LeadOffice'].str.replace('.', '')\n",
    "combined_df['State'] = combined_df['Location'].apply(lambda x: x.split('STATE - ')[-1]).apply(lambda x: x.split('COUNTY')[0]).str.replace('.', '')\n",
    "combined_df['ProjectURL'] = combined_df['Description'].apply(lambda x: x.split('Web Link: ')[-1])\n",
    "combined_df['Agency'] = 'USFS'"
   ]
  },
  {
   "cell_type": "code",
   "execution_count": 249,
   "id": "52e3aa25-c484-4b60-8776-649f0b895149",
   "metadata": {},
   "outputs": [
    {
     "name": "stdout",
     "output_type": "stream",
     "text": [
      "['ProjectName', 'ProjectPurpose', 'ProjectStatus', 'Decision', 'ImplementationDate', 'Contact', 'Description', 'Location', 'LeadOffice', 'State', 'ProjectURL', 'Agency']\n"
     ]
    }
   ],
   "source": [
    "usfs_columns_list = combined_df.columns.tolist()\n",
    "print(usfs_columns_list)"
   ]
  },
  {
   "cell_type": "code",
   "execution_count": 250,
   "id": "1069eb45-0eb4-4b57-875e-ac4064ed07ff",
   "metadata": {},
   "outputs": [],
   "source": [
    "blm_csv_comm = r\"C:\\Users\\korin\\Documents\\onXTechReview\\gis_data\\OpenCommentPeriod.csv\"\n",
    "blm_csv_active = r\"C:\\Users\\korin\\Documents\\onXTechReview\\gis_data\\BLM_ActiveProjects.csv\"\n",
    "blm_DF = pd.read_csv(blm_csv_active)\n",
    "blm_comm = pd.read_csv(blm_csv_comm)\n",
    "blm_columns_list = blm_DF.columns.tolist()"
   ]
  },
  {
   "cell_type": "code",
   "execution_count": 251,
   "id": "fc6fa0cc-fed1-4a4b-b96c-f032017654df",
   "metadata": {},
   "outputs": [
    {
     "name": "stdout",
     "output_type": "stream",
     "text": [
      "['NEPA #', 'Type', 'Project Name', 'Lead Office', 'Program', 'NEPA Status', 'Fiscal Year', 'NOI Date', 'Decision Date', 'FONSI Date']\n"
     ]
    }
   ],
   "source": [
    "print(blm_columns_list)"
   ]
  },
  {
   "cell_type": "code",
   "execution_count": 252,
   "id": "58aabfdb-74d2-4f6e-90a2-68473021ad41",
   "metadata": {},
   "outputs": [],
   "source": [
    "blm_DF.rename(columns={'Project Name':'ProjectName','Lead Office': 'LeadOffice', 'NEPA Status': 'NEPA_Status', 'Decision Date':'DecisionDate'}, inplace=True)\n",
    "blm_DF['LeadOffice']=blm_DF['LeadOffice'].str.replace('FO', '')"
   ]
  },
  {
   "cell_type": "code",
   "execution_count": 253,
   "id": "b996bd84-c4ea-4b04-8ad0-e23f58d29a02",
   "metadata": {},
   "outputs": [],
   "source": [
    "combined_df.rename(columns={'ProjectPurpose': 'Program', 'Lead Office': 'LeadOffice', 'ProjectStatus':'NEPA_Status', 'Decision':'DecisionDate'}, inplace=True)\n",
    "combined_df=combined_df.drop_duplicates()"
   ]
  },
  {
   "cell_type": "code",
   "execution_count": 254,
   "id": "1d6ce35d-18d3-474d-89a4-95c5fad475e6",
   "metadata": {},
   "outputs": [
    {
     "name": "stdout",
     "output_type": "stream",
     "text": [
      "['NEPA #', 'Type', 'Project Name', 'Lead Office', 'Program', 'NEPA Status', 'Fiscal Year', 'NOI Date', 'Decision Date', 'FONSI Date']\n"
     ]
    }
   ],
   "source": [
    "blm_comm_list = blm_comm.columns.tolist()\n",
    "print(blm_columns_list)"
   ]
  },
  {
   "cell_type": "code",
   "execution_count": 255,
   "id": "7b702953-ddb2-4a60-b949-784e23eaafe5",
   "metadata": {},
   "outputs": [],
   "source": [
    "blm_DF['ProjectURL'] = blm_DF['ProjectName'].map(blm_comm.set_index('Project Name')['Unnamed: 12'])"
   ]
  },
  {
   "cell_type": "code",
   "execution_count": 256,
   "id": "509a9d7d-b260-4714-92f6-7c158ed69c6c",
   "metadata": {},
   "outputs": [],
   "source": [
    "with open(r\"C:\\Users\\korin\\Documents\\onXTechReview\\gis_data\\BLM_OR_Administrative_Unit_Office_Polygon_Hub_1104955446583650107.geojson\") as f:\n",
    "    geojson_data = json.load(f)"
   ]
  },
  {
   "cell_type": "code",
   "execution_count": 257,
   "id": "2528e38d-3d31-42cd-abfe-733187c7e774",
   "metadata": {},
   "outputs": [],
   "source": [
    "features = geojson_data[\"features\"]\n",
    "data = [feature[\"properties\"] for feature in features]\n",
    "\n",
    "# Create DataFrame\n",
    "df = pd.DataFrame(data)"
   ]
  },
  {
   "cell_type": "code",
   "execution_count": 258,
   "id": "75b3d55b-db54-4895-a518-172a8a3ca43e",
   "metadata": {},
   "outputs": [
    {
     "name": "stdout",
     "output_type": "stream",
     "text": [
      "['Grants Pass' 'Ashland' 'Butte Falls' 'Andrews' 'Klamath Falls'\n",
      " 'Myrtlewood' 'South River' 'Lakeview' 'Swiftwater' 'Umpqua'\n",
      " 'Three Rivers' 'Siuslaw' 'Upper Willamette' 'Malheur' 'Marys Peak'\n",
      " 'Cascades' 'Baker' 'Tillamook' 'Border' 'Wenatchee' 'Deschutes'\n",
      " 'Central Oregon']\n"
     ]
    }
   ],
   "source": [
    "unique_values = df['ADMU_LABEL'].unique()\n",
    "print(unique_values)"
   ]
  },
  {
   "cell_type": "code",
   "execution_count": 259,
   "id": "85d8a102-9f8f-4c7b-a339-4cad973d68f8",
   "metadata": {},
   "outputs": [
    {
     "name": "stdout",
     "output_type": "stream",
     "text": [
      "['Tillamook ' 'Wenatchee ' 'WO-230' 'Marys Peak ' 'Klamath Falls '\n",
      " 'Roseburg DO' 'South River ' 'Lakeview ' 'Swiftwater '\n",
      " 'Prineville Deschutes ' 'Border ' 'Deschutes RA' 'Eugene DO' 'Vale DO'\n",
      " 'Myrtlewood ' 'Andrews ' 'Cascade-Siskiyou NMON' 'Grants Pass '\n",
      " 'Prineville DO' 'Spokane DO' 'Ashland ' 'State Office' 'Vale Malheur '\n",
      " 'Butte Falls ' 'Siuslaw ' 'Cascades ' 'Upper Willamette ' 'WO-350'\n",
      " 'Umpqua ' 'Owyhee ' 'Three Rivers ' 'San Juan NMON']\n"
     ]
    }
   ],
   "source": [
    "unique_values_blm = blm_DF['LeadOffice'].unique()\n",
    "print(unique_values_blm)"
   ]
  },
  {
   "cell_type": "code",
   "execution_count": 260,
   "id": "f4c1b725-af25-461c-b343-b54d958be5ef",
   "metadata": {},
   "outputs": [],
   "source": [
    "loc_dict = {'Tillamook ':'Tillamook', 'Wenatchee ':'Wenatchee', 'WO-230':'WO', 'Marys Peak ':'Marys Peak', 'Klamath Falls ':'Klamath Falls',\n",
    " 'Roseburg DO':'Swiftwater', 'South River ':'South River', 'Lakeview ':'Lakeview', 'Swiftwater ':'Swiftwater',\n",
    " 'Prineville Deschutes ': 'Deschutes','Border ':'Border', 'Deschutes RA':'Deschutes', 'Eugene DO':'Border', 'Vale DO':'Baker',\n",
    " 'Myrtlewood ':'Myrtlewood', 'Andrews ':'Andrews', 'Cascade-Siskiyou NMON':'Cascades', 'Grants Pass ':'Grants Pass',\n",
    " 'Prineville DO':'Deschutes','Deschutes':'Deschutes', 'Spokane DO':'Wenatchee', 'Ashland ':'Ashland', 'State Office':'State Office', 'Vale Malheur ':'Baker',\n",
    " 'Butte Falls ' 'Siuslaw ' 'Cascades ' 'Upper Willamette ' 'WO-350'\n",
    " 'Umpqua ':'Umpqua', 'Three Rivers ':'Three Rivers', 'San Juan NMON':'State Office'}"
   ]
  },
  {
   "cell_type": "code",
   "execution_count": 261,
   "id": "5bde4a4e-abec-4a20-a93c-d322b81baa48",
   "metadata": {},
   "outputs": [],
   "source": [
    "blm_DF['LeadOffice_NameStand'] = blm_DF['LeadOffice'].replace(loc_dict)"
   ]
  },
  {
   "cell_type": "markdown",
   "id": "548c60fb-f51a-407d-9616-2d06a9142ee5",
   "metadata": {},
   "source": [
    "with open(r\"C:\\Users\\korin\\Documents\\onXTechReview\\gis_data\\Ranger_District_Boundaries_(Feature_Layer).geojson\") as f:\n",
    "    geojson_data_usfs = json.load(f)\n",
    "\n",
    "features_usfs = geojson_data_usfs[\"features\"]\n",
    "data_usfs = [feature[\"properties\"] for feature in features_usfs]\n",
    "\n",
    "# Create DataFrame\n",
    "rangerDist_df= pd.DataFrame(data_usfs)"
   ]
  },
  {
   "cell_type": "markdown",
   "id": "f17dc436-1455-445a-9621-ff9d51744d14",
   "metadata": {},
   "source": [
    "unique_values_rd = rangerDist_df['DISTRICTNAME'].unique()\n",
    "print(unique_values_rd)"
   ]
  },
  {
   "cell_type": "markdown",
   "id": "c36a717e-7a1b-4b47-8adc-2e2c891433cd",
   "metadata": {},
   "source": [
    "unique_values_usfs = combined_df['LeadOffice'].unique()\n",
    "print(unique_values_usfs)"
   ]
  },
  {
   "cell_type": "code",
   "execution_count": 262,
   "id": "610c9187-17c7-4ce4-85fe-55bdaa033633",
   "metadata": {},
   "outputs": [],
   "source": [
    "path = os.path.join(r\"C:\\Users\\korin\\Documents\\onXTechReview\\gis_data\\CombinedUSFS_SOPA.csv\")\n",
    "path_blm = os.path.join(r\"C:\\Users\\korin\\Documents\\onXTechReview\\gis_data\\CombinedBLM_Projects.csv\")\n",
    "combined_df.to_csv(path, index=False)\n",
    "blm_DF.to_csv(path_blm, index=False)"
   ]
  },
  {
   "cell_type": "code",
   "execution_count": null,
   "id": "4f229d12-8ca4-4671-90bf-7588b648b0bc",
   "metadata": {},
   "outputs": [],
   "source": []
  }
 ],
 "metadata": {
  "kernelspec": {
   "display_name": "Python 3 (ipykernel)",
   "language": "python",
   "name": "python3"
  },
  "language_info": {
   "codemirror_mode": {
    "name": "ipython",
    "version": 3
   },
   "file_extension": ".py",
   "mimetype": "text/x-python",
   "name": "python",
   "nbconvert_exporter": "python",
   "pygments_lexer": "ipython3",
   "version": "3.13.5"
  }
 },
 "nbformat": 4,
 "nbformat_minor": 5
}
